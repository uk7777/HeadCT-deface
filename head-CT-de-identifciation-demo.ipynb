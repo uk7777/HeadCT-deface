{
 "cells": [
  {
   "cell_type": "code",
   "execution_count": 1,
   "metadata": {},
   "outputs": [],
   "source": [
    "# Install YOLOv8 and Pytorch for using YOLO\n",
    "\n",
    "from ultralytics import YOLO\n",
    "import cv2\n",
    "import matplotlib.pyplot as plt\n",
    "import numpy as np\n",
    "from PIL import Image\n",
    "import pydicom\n",
    "from pydicom.uid import RLELossless\n",
    "import cv2\n",
    "# Load a model\n",
    "model = YOLO('best.pt')  # load a custom trained\n",
    "\n"
   ]
  },
  {
   "cell_type": "code",
   "execution_count": 2,
   "metadata": {},
   "outputs": [],
   "source": [
    "# Get dcm files in a folder and return a list\n",
    "import os\n",
    "def get_file_list(input_path, extension) :\n",
    "    try :\n",
    "        list_path = []\n",
    "        list_file = []\n",
    "        list_full = []   \n",
    "        \n",
    "        for (path, _, file) in os.walk(input_path):\n",
    "            for each_file in file:\n",
    "                if each_file.split('.')[-1] == extension:\n",
    "                    list_path.append(path)    \n",
    "                    list_file.append(each_file)\n",
    "                    list_full.append(os.path.join(os.getcwd(),path,each_file).replace('.\\\\',''))\n",
    "        return list_full\n",
    "    except : \n",
    "        return 'get_file_list error.'    "
   ]
  },
  {
   "cell_type": "code",
   "execution_count": 3,
   "metadata": {},
   "outputs": [],
   "source": [
    "def dcm2jpg_array(array):\n",
    "    return cv2.normalize(array, None, 0, 255, cv2.NORM_MINMAX, dtype=cv2.CV_8U)\n",
    "     "
   ]
  },
  {
   "cell_type": "code",
   "execution_count": 42,
   "metadata": {},
   "outputs": [],
   "source": [
    "def deface_features(dcm_list, result_path, result_png_path, features):\n",
    "    #features\n",
    "    # 0 : eye, 1 : nose, 2 : ear, 3 : mouth\n",
    "    for dcm_path in dcm_list:\n",
    "        folder = result_path+str(dcm_path.split('/')[-1].split('.')[0])\n",
    "        folder_png = result_png_path+str(dcm_path.split('/')[-1].split('.')[0])\n",
    "        file_name = str(dcm_path.split('/')[-1])\n",
    "\n",
    "        if not os.path.exists(folder):\n",
    "            os.makedirs(folder)    \n",
    "        if not os.path.exists(folder_png):\n",
    "            os.makedirs(folder_png)           \n",
    "            \n",
    "        ds = pydicom.dcmread(dcm_path)\n",
    "        array = ds.pixel_array\n",
    "        array = dcm2jpg_array(array)\n",
    "        array = Image.fromarray(array)\n",
    "        x = np.array(array)\n",
    "        results = model.predict(array, conf=0.5)\n",
    "        for result in results:\n",
    "            boxes = result.boxes.cpu().numpy()\n",
    "            for box in boxes:\n",
    "                if box.cls in features:\n",
    "                    r = box.xyxy[0].astype(int)\n",
    "                    x = cv2.rectangle(x, r[:2], r[2:], (0, 0, 0), -1) \n",
    "        png = Image.fromarray(x)\n",
    "        png.save(folder_png+'\\\\'+file_name+'.png')\n",
    "\n",
    "        img_gray = x.astype(\"uint16\") * 16\n",
    "        arr = img_gray\n",
    "        ds.compress(RLELossless, arr)\n",
    "        ds.save_as(folder+'\\\\'+file_name+'.dcm')\n",
    "\n",
    "    \n",
    "    "
   ]
  },
  {
   "cell_type": "code",
   "execution_count": 44,
   "metadata": {},
   "outputs": [
    {
     "name": "stderr",
     "output_type": "stream",
     "text": [
      "\n"
     ]
    },
    {
     "name": "stderr",
     "output_type": "stream",
     "text": [
      "0: 640x640 1 nose, 1 ear, 485.6ms\n",
      "Speed: 1.0ms preprocess, 485.6ms inference, 1.0ms postprocess per image at shape (1, 3, 640, 640)\n"
     ]
    }
   ],
   "source": [
    "dcmfile = './sample-head-CT.dcm'\n",
    "deface_features([dcmfile], './', './', [0,1,2,3])"
   ]
  }
 ],
 "metadata": {
  "kernelspec": {
   "display_name": "Python 3",
   "language": "python",
   "name": "python3"
  },
  "language_info": {
   "codemirror_mode": {
    "name": "ipython",
    "version": 3
   },
   "file_extension": ".py",
   "mimetype": "text/x-python",
   "name": "python",
   "nbconvert_exporter": "python",
   "pygments_lexer": "ipython3",
   "version": "3.11.4"
  },
  "orig_nbformat": 4
 },
 "nbformat": 4,
 "nbformat_minor": 2
}
